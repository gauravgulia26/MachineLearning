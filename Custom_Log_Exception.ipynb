{
 "cells": [
  {
   "cell_type": "code",
   "execution_count": 34,
   "id": "67de167b",
   "metadata": {},
   "outputs": [],
   "source": [
    "import logging\n",
    "import coloredlogs\n",
    "\n",
    "FORMAT = \"%(asctime)s - %(message)s\""
   ]
  },
  {
   "cell_type": "code",
   "execution_count": 35,
   "id": "3b53675f",
   "metadata": {},
   "outputs": [],
   "source": [
    "logger = logging.getLogger(__name__)\n",
    "logger.setLevel(logging.INFO)\n",
    "file_handler = logging.FileHandler(filename=\"logs.log\", mode=\"w\")\n",
    "file_formatter = logging.Formatter(fmt=FORMAT)\n",
    "file_handler.setFormatter(fmt=file_formatter)\n",
    "logger.addHandler(file_handler)"
   ]
  },
  {
   "cell_type": "code",
   "execution_count": 36,
   "id": "f4f54ded",
   "metadata": {},
   "outputs": [],
   "source": [
    "coloredlogs.install(logger=logger, fmt=FORMAT, level=logging.INFO)"
   ]
  },
  {
   "cell_type": "code",
   "execution_count": null,
   "id": "aebbb9de",
   "metadata": {},
   "outputs": [],
   "source": [
    "import sys, traceback\n",
    "\n",
    "logger = logging.getLogger(__name__)\n",
    "logger.setLevel(logging.INFO)\n",
    "file_handler = logging.FileHandler(filename=\"logs.log\", mode=\"w\")\n",
    "file_formatter = logging.Formatter(fmt=FORMAT)\n",
    "file_handler.setFormatter(fmt=file_formatter)\n",
    "logger.addHandler(file_handler)\n",
    "\n",
    "coloredlogs.install(logger=logger, fmt=FORMAT, level=logging.INFO)\n",
    "\n",
    "\n",
    "class CustomException(Exception):\n",
    "    def __init__(self, original_exception: Exception):\n",
    "        if not isinstance(original_exception, Exception):\n",
    "            raise ValueError(\"Must be a exception\")\n",
    "        _, _, tb = sys.exc_info()\n",
    "        tb_info = traceback.extract_tb(tb)[-1]\n",
    "        filename = tb_info.filename\n",
    "        line_number = tb_info.lineno\n",
    "        error_type = type(original_exception).__name__\n",
    "        error_message = str(original_exception)\n",
    "\n",
    "        self.message = (\n",
    "            f\"Exception Type: {error_type}\\n\"\n",
    "            f\"File Name: {filename}\\n\"\n",
    "            f\"Line Number: {line_number}\\n\"\n",
    "            f\"Error Message: {error_message}\"\n",
    "        )\n",
    "\n",
    "        self.__log_exception()\n",
    "\n",
    "    def __log_exception(self):\n",
    "        logger.error(self.message)"
   ]
  },
  {
   "cell_type": "code",
   "execution_count": 50,
   "id": "f48fc668",
   "metadata": {},
   "outputs": [
    {
     "name": "stderr",
     "output_type": "stream",
     "text": [
      "2025-05-14 20:58:52 - Exception Type: ZeroDivisionError\n",
      "File Name: /tmp/ipykernel_6003/3421785854.py\n",
      "Line Number: 2\n",
      "Error Message: division by zero\n"
     ]
    }
   ],
   "source": [
    "try:\n",
    "    3 / 0\n",
    "except ZeroDivisionError as e:\n",
    "    err = CustomException(original_exception=e)\n",
    "else:\n",
    "    print(\"OKAY\")"
   ]
  }
 ],
 "metadata": {
  "kernelspec": {
   "display_name": "MachineLearning",
   "language": "python",
   "name": "python3"
  },
  "language_info": {
   "codemirror_mode": {
    "name": "ipython",
    "version": 3
   },
   "file_extension": ".py",
   "mimetype": "text/x-python",
   "name": "python",
   "nbconvert_exporter": "python",
   "pygments_lexer": "ipython3",
   "version": "3.12.9"
  }
 },
 "nbformat": 4,
 "nbformat_minor": 5
}
