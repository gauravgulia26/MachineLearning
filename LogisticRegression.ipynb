{
 "cells": [
  {
   "cell_type": "code",
   "execution_count": 159,
   "metadata": {},
   "outputs": [],
   "source": [
    "from sklearn.datasets import make_classification\n",
    "import numpy as np\n",
    "from pydantic import BaseModel, Field\n",
    "\n",
    "X, y = make_classification(n_samples=1000, n_features=20)"
   ]
  },
  {
   "cell_type": "code",
   "execution_count": 160,
   "metadata": {},
   "outputs": [],
   "source": [
    "class LogisticRegression(BaseModel, arbitrary_types_allowed=True):\n",
    "    x: np.ndarray = Field(description=\"Independent Features\")\n",
    "    y: np.ndarray = Field(description=\"Dependent Feature\")\n",
    "\n",
    "    def sigmoid(self, z: np.ndarray):\n",
    "        return 1 / (1 + np.exp(-z))\n",
    "\n",
    "    def compute_gradient(self, X, y, theta):\n",
    "        m = len(y)\n",
    "        predictions = self.sigmoid(np.dot(X, theta))\n",
    "        errors = predictions - y\n",
    "        gradient = (1 / m) * np.dot(X.T, errors)\n",
    "        return gradient\n",
    "\n",
    "    def gradient_descent(self, X, y, learning_rate, iterations):\n",
    "        theta = np.zeros((X.shape[1], 1))\n",
    "        for _ in range(iterations):\n",
    "            gradient = self.compute_gradient(X, y, theta)\n",
    "            theta -= learning_rate * gradient\n",
    "        return theta\n",
    "\n",
    "\n",
    "# Generate synthetic data\n",
    "X, y = make_classification(n_samples=1000, n_features=20)\n",
    "\n",
    "# Add intercept term to X\n",
    "X = np.hstack((np.ones((X.shape[0], 1)), X))\n",
    "\n",
    "# Reshape y to be a column vector\n",
    "y = y.reshape(-1, 1)\n",
    "\n",
    "# Initialize and train the model\n",
    "model = LogisticRegression(x=X, y=y)\n",
    "theta = model.gradient_descent(X, y, learning_rate=0.01, iterations=1000)"
   ]
  },
  {
   "cell_type": "code",
   "execution_count": 161,
   "metadata": {},
   "outputs": [],
   "source": [
    "predictions = 1 / (1 + np.exp(-np.dot(theta.T, X.T)))"
   ]
  },
  {
   "cell_type": "code",
   "execution_count": 162,
   "metadata": {},
   "outputs": [],
   "source": [
    "predictions = np.where(predictions < 0.5, 0, 1)"
   ]
  },
  {
   "cell_type": "code",
   "execution_count": 163,
   "metadata": {},
   "outputs": [],
   "source": [
    "loss = predictions.ravel() - y.ravel()"
   ]
  },
  {
   "cell_type": "code",
   "execution_count": 164,
   "metadata": {},
   "outputs": [
    {
     "data": {
      "text/plain": [
       "73"
      ]
     },
     "execution_count": 164,
     "metadata": {},
     "output_type": "execute_result"
    }
   ],
   "source": [
    "np.count_nonzero(loss == -1)"
   ]
  },
  {
   "cell_type": "code",
   "execution_count": 165,
   "metadata": {},
   "outputs": [],
   "source": [
    "accuracy = (len(loss) - np.count_nonzero(loss == -1)) / len(loss)"
   ]
  },
  {
   "cell_type": "code",
   "execution_count": 166,
   "metadata": {},
   "outputs": [
    {
     "data": {
      "text/plain": [
       "92.7"
      ]
     },
     "execution_count": 166,
     "metadata": {},
     "output_type": "execute_result"
    }
   ],
   "source": [
    "accuracy * 100"
   ]
  }
 ],
 "metadata": {
  "kernelspec": {
   "display_name": "MachineLearning",
   "language": "python",
   "name": "python3"
  },
  "language_info": {
   "codemirror_mode": {
    "name": "ipython",
    "version": 3
   },
   "file_extension": ".py",
   "mimetype": "text/x-python",
   "name": "python",
   "nbconvert_exporter": "python",
   "pygments_lexer": "ipython3",
   "version": "3.12.9"
  }
 },
 "nbformat": 4,
 "nbformat_minor": 2
}
