{
 "cells": [
  {
   "cell_type": "code",
   "execution_count": 1,
   "id": "320e5676",
   "metadata": {},
   "outputs": [],
   "source": [
    "import numpy as np\n",
    "import pandas as pd\n",
    "from sklearn.datasets import make_classification\n",
    "\n",
    "\n",
    "X, y = make_classification(\n",
    "    n_samples=10000,\n",
    "    n_features=20,\n",
    "    n_informative=2,\n",
    "    n_redundant=10,\n",
    "    n_clusters_per_class=1,\n",
    "    weights=[0.9, 0.1],  # 90% of class 0, 10% of class 1\n",
    "    flip_y=0,\n",
    "    random_state=42,\n",
    ")\n",
    "\n",
    "# Convert to DataFrame\n",
    "df = pd.DataFrame(X, columns=[f\"feature_{i}\" for i in range(X.shape[1])])\n",
    "df[\"target\"] = y"
   ]
  },
  {
   "cell_type": "code",
   "execution_count": 2,
   "id": "0cc5bca8",
   "metadata": {},
   "outputs": [
    {
     "data": {
      "text/html": [
       "<div>\n",
       "<style scoped>\n",
       "    .dataframe tbody tr th:only-of-type {\n",
       "        vertical-align: middle;\n",
       "    }\n",
       "\n",
       "    .dataframe tbody tr th {\n",
       "        vertical-align: top;\n",
       "    }\n",
       "\n",
       "    .dataframe thead th {\n",
       "        text-align: right;\n",
       "    }\n",
       "</style>\n",
       "<table border=\"1\" class=\"dataframe\">\n",
       "  <thead>\n",
       "    <tr style=\"text-align: right;\">\n",
       "      <th></th>\n",
       "      <th>feature_0</th>\n",
       "      <th>feature_1</th>\n",
       "      <th>feature_2</th>\n",
       "      <th>feature_3</th>\n",
       "      <th>feature_4</th>\n",
       "      <th>feature_5</th>\n",
       "      <th>feature_6</th>\n",
       "      <th>feature_7</th>\n",
       "      <th>feature_8</th>\n",
       "      <th>feature_9</th>\n",
       "      <th>...</th>\n",
       "      <th>feature_11</th>\n",
       "      <th>feature_12</th>\n",
       "      <th>feature_13</th>\n",
       "      <th>feature_14</th>\n",
       "      <th>feature_15</th>\n",
       "      <th>feature_16</th>\n",
       "      <th>feature_17</th>\n",
       "      <th>feature_18</th>\n",
       "      <th>feature_19</th>\n",
       "      <th>target</th>\n",
       "    </tr>\n",
       "  </thead>\n",
       "  <tbody>\n",
       "    <tr>\n",
       "      <th>0</th>\n",
       "      <td>0.477908</td>\n",
       "      <td>-0.913100</td>\n",
       "      <td>-0.142257</td>\n",
       "      <td>-0.888393</td>\n",
       "      <td>0.101232</td>\n",
       "      <td>0.557124</td>\n",
       "      <td>0.603857</td>\n",
       "      <td>0.392627</td>\n",
       "      <td>-0.068788</td>\n",
       "      <td>-0.421507</td>\n",
       "      <td>...</td>\n",
       "      <td>-0.151552</td>\n",
       "      <td>0.489513</td>\n",
       "      <td>-0.584593</td>\n",
       "      <td>-0.225217</td>\n",
       "      <td>0.715035</td>\n",
       "      <td>-0.084127</td>\n",
       "      <td>0.041213</td>\n",
       "      <td>0.194508</td>\n",
       "      <td>-0.142022</td>\n",
       "      <td>0</td>\n",
       "    </tr>\n",
       "    <tr>\n",
       "      <th>1</th>\n",
       "      <td>-0.307475</td>\n",
       "      <td>-0.097225</td>\n",
       "      <td>0.936320</td>\n",
       "      <td>0.642466</td>\n",
       "      <td>1.165698</td>\n",
       "      <td>-0.399368</td>\n",
       "      <td>-0.304983</td>\n",
       "      <td>-0.322777</td>\n",
       "      <td>0.028461</td>\n",
       "      <td>0.188398</td>\n",
       "      <td>...</td>\n",
       "      <td>0.213513</td>\n",
       "      <td>-0.299423</td>\n",
       "      <td>0.474325</td>\n",
       "      <td>-0.138453</td>\n",
       "      <td>-0.783926</td>\n",
       "      <td>0.101268</td>\n",
       "      <td>-0.066895</td>\n",
       "      <td>-0.021799</td>\n",
       "      <td>0.481598</td>\n",
       "      <td>0</td>\n",
       "    </tr>\n",
       "    <tr>\n",
       "      <th>2</th>\n",
       "      <td>1.047926</td>\n",
       "      <td>1.403379</td>\n",
       "      <td>-0.488940</td>\n",
       "      <td>-1.913669</td>\n",
       "      <td>-0.082735</td>\n",
       "      <td>1.201800</td>\n",
       "      <td>1.364556</td>\n",
       "      <td>2.394906</td>\n",
       "      <td>-0.158484</td>\n",
       "      <td>-0.964356</td>\n",
       "      <td>...</td>\n",
       "      <td>-0.276121</td>\n",
       "      <td>1.080888</td>\n",
       "      <td>-1.234284</td>\n",
       "      <td>-1.635954</td>\n",
       "      <td>0.075388</td>\n",
       "      <td>-0.161633</td>\n",
       "      <td>0.070810</td>\n",
       "      <td>0.476562</td>\n",
       "      <td>0.863912</td>\n",
       "      <td>0</td>\n",
       "    </tr>\n",
       "    <tr>\n",
       "      <th>3</th>\n",
       "      <td>-0.249407</td>\n",
       "      <td>-0.431734</td>\n",
       "      <td>1.639818</td>\n",
       "      <td>0.195003</td>\n",
       "      <td>1.070736</td>\n",
       "      <td>-0.135673</td>\n",
       "      <td>-0.631617</td>\n",
       "      <td>0.082602</td>\n",
       "      <td>0.095749</td>\n",
       "      <td>0.533669</td>\n",
       "      <td>...</td>\n",
       "      <td>-0.360470</td>\n",
       "      <td>-0.314264</td>\n",
       "      <td>-0.067048</td>\n",
       "      <td>0.000762</td>\n",
       "      <td>0.578895</td>\n",
       "      <td>-0.134721</td>\n",
       "      <td>0.131493</td>\n",
       "      <td>-0.493080</td>\n",
       "      <td>0.648938</td>\n",
       "      <td>0</td>\n",
       "    </tr>\n",
       "    <tr>\n",
       "      <th>4</th>\n",
       "      <td>0.049466</td>\n",
       "      <td>0.530635</td>\n",
       "      <td>-2.463684</td>\n",
       "      <td>-0.006239</td>\n",
       "      <td>0.735609</td>\n",
       "      <td>0.008183</td>\n",
       "      <td>0.163489</td>\n",
       "      <td>1.181896</td>\n",
       "      <td>-0.026218</td>\n",
       "      <td>-0.143726</td>\n",
       "      <td>...</td>\n",
       "      <td>0.124572</td>\n",
       "      <td>0.069430</td>\n",
       "      <td>0.058234</td>\n",
       "      <td>-0.280637</td>\n",
       "      <td>0.215532</td>\n",
       "      <td>0.048290</td>\n",
       "      <td>-0.044555</td>\n",
       "      <td>0.145079</td>\n",
       "      <td>-0.182690</td>\n",
       "      <td>0</td>\n",
       "    </tr>\n",
       "  </tbody>\n",
       "</table>\n",
       "<p>5 rows × 21 columns</p>\n",
       "</div>"
      ],
      "text/plain": [
       "   feature_0  feature_1  feature_2  feature_3  feature_4  feature_5  \\\n",
       "0   0.477908  -0.913100  -0.142257  -0.888393   0.101232   0.557124   \n",
       "1  -0.307475  -0.097225   0.936320   0.642466   1.165698  -0.399368   \n",
       "2   1.047926   1.403379  -0.488940  -1.913669  -0.082735   1.201800   \n",
       "3  -0.249407  -0.431734   1.639818   0.195003   1.070736  -0.135673   \n",
       "4   0.049466   0.530635  -2.463684  -0.006239   0.735609   0.008183   \n",
       "\n",
       "   feature_6  feature_7  feature_8  feature_9  ...  feature_11  feature_12  \\\n",
       "0   0.603857   0.392627  -0.068788  -0.421507  ...   -0.151552    0.489513   \n",
       "1  -0.304983  -0.322777   0.028461   0.188398  ...    0.213513   -0.299423   \n",
       "2   1.364556   2.394906  -0.158484  -0.964356  ...   -0.276121    1.080888   \n",
       "3  -0.631617   0.082602   0.095749   0.533669  ...   -0.360470   -0.314264   \n",
       "4   0.163489   1.181896  -0.026218  -0.143726  ...    0.124572    0.069430   \n",
       "\n",
       "   feature_13  feature_14  feature_15  feature_16  feature_17  feature_18  \\\n",
       "0   -0.584593   -0.225217    0.715035   -0.084127    0.041213    0.194508   \n",
       "1    0.474325   -0.138453   -0.783926    0.101268   -0.066895   -0.021799   \n",
       "2   -1.234284   -1.635954    0.075388   -0.161633    0.070810    0.476562   \n",
       "3   -0.067048    0.000762    0.578895   -0.134721    0.131493   -0.493080   \n",
       "4    0.058234   -0.280637    0.215532    0.048290   -0.044555    0.145079   \n",
       "\n",
       "   feature_19  target  \n",
       "0   -0.142022       0  \n",
       "1    0.481598       0  \n",
       "2    0.863912       0  \n",
       "3    0.648938       0  \n",
       "4   -0.182690       0  \n",
       "\n",
       "[5 rows x 21 columns]"
      ]
     },
     "execution_count": 2,
     "metadata": {},
     "output_type": "execute_result"
    }
   ],
   "source": [
    "df.head()"
   ]
  },
  {
   "cell_type": "code",
   "execution_count": 4,
   "id": "8ee7c32a",
   "metadata": {},
   "outputs": [],
   "source": [
    "from imblearn.ensemble import BalancedRandomForestClassifier\n",
    "from sklearn.ensemble import RandomForestClassifier\n",
    "from sklearn.model_selection import train_test_split"
   ]
  },
  {
   "cell_type": "code",
   "execution_count": 5,
   "id": "25e1a7fa",
   "metadata": {},
   "outputs": [],
   "source": [
    "X_train, X_test, y_train, y_test = train_test_split(\n",
    "    X, y, test_size=0.33, random_state=42\n",
    ")"
   ]
  },
  {
   "cell_type": "code",
   "execution_count": 6,
   "id": "8d2d233e",
   "metadata": {},
   "outputs": [],
   "source": [
    "rf = RandomForestClassifier(n_estimators=300)\n",
    "balanced_rf = BalancedRandomForestClassifier(n_estimators=300)"
   ]
  },
  {
   "cell_type": "code",
   "execution_count": 7,
   "id": "acb74352",
   "metadata": {},
   "outputs": [],
   "source": [
    "rf_model = rf.fit(X_train, y_train)\n",
    "balanced_rf_model = balanced_rf.fit(X_train, y_train)"
   ]
  },
  {
   "cell_type": "code",
   "execution_count": 9,
   "id": "004746f2",
   "metadata": {},
   "outputs": [],
   "source": [
    "pred = rf.predict(X_test)\n",
    "balanced_pred = balanced_rf.predict(X_test)"
   ]
  },
  {
   "cell_type": "code",
   "execution_count": 11,
   "id": "ac8bc0bc",
   "metadata": {},
   "outputs": [],
   "source": [
    "from sklearn.metrics import classification_report"
   ]
  },
  {
   "cell_type": "code",
   "execution_count": 12,
   "id": "bfc82ed2",
   "metadata": {},
   "outputs": [
    {
     "name": "stdout",
     "output_type": "stream",
     "text": [
      "              precision    recall  f1-score   support\n",
      "\n",
      "           0       1.00      1.00      1.00      2992\n",
      "           1       0.96      1.00      0.98       308\n",
      "\n",
      "    accuracy                           1.00      3300\n",
      "   macro avg       0.98      1.00      0.99      3300\n",
      "weighted avg       1.00      1.00      1.00      3300\n",
      "\n"
     ]
    }
   ],
   "source": [
    "print(classification_report(pred, y_test))"
   ]
  },
  {
   "cell_type": "code",
   "execution_count": 13,
   "id": "cfc4bcae",
   "metadata": {},
   "outputs": [
    {
     "name": "stdout",
     "output_type": "stream",
     "text": [
      "              precision    recall  f1-score   support\n",
      "\n",
      "           0       0.99      1.00      1.00      2969\n",
      "           1       0.97      0.94      0.96       331\n",
      "\n",
      "    accuracy                           0.99      3300\n",
      "   macro avg       0.98      0.97      0.98      3300\n",
      "weighted avg       0.99      0.99      0.99      3300\n",
      "\n"
     ]
    }
   ],
   "source": [
    "print(classification_report(balanced_pred, y_test))"
   ]
  },
  {
   "cell_type": "code",
   "execution_count": null,
   "id": "4de94056",
   "metadata": {},
   "outputs": [],
   "source": []
  },
  {
   "cell_type": "code",
   "execution_count": null,
   "id": "18ef35fa",
   "metadata": {},
   "outputs": [],
   "source": []
  },
  {
   "cell_type": "code",
   "execution_count": null,
   "id": "b39627b4",
   "metadata": {},
   "outputs": [],
   "source": []
  },
  {
   "cell_type": "code",
   "execution_count": null,
   "id": "498639e7",
   "metadata": {},
   "outputs": [],
   "source": []
  },
  {
   "cell_type": "code",
   "execution_count": null,
   "id": "c4a2f20d",
   "metadata": {},
   "outputs": [],
   "source": []
  },
  {
   "cell_type": "code",
   "execution_count": null,
   "id": "e76cb5b0",
   "metadata": {},
   "outputs": [],
   "source": []
  }
 ],
 "metadata": {
  "kernelspec": {
   "display_name": "MachineLearning",
   "language": "python",
   "name": "python3"
  },
  "language_info": {
   "codemirror_mode": {
    "name": "ipython",
    "version": 3
   },
   "file_extension": ".py",
   "mimetype": "text/x-python",
   "name": "python",
   "nbconvert_exporter": "python",
   "pygments_lexer": "ipython3",
   "version": "3.12.9"
  }
 },
 "nbformat": 4,
 "nbformat_minor": 5
}
